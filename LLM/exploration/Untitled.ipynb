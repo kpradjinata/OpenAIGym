{
 "cells": [
  {
   "cell_type": "code",
   "execution_count": 1,
   "id": "7cc80fb1-a4ae-4342-86e6-93d6c94c57ce",
   "metadata": {},
   "outputs": [],
   "source": [
    "import gymnasium as gym\n",
    "from stable_baselines3 import PPO\n",
    "import tqdm\n",
    "import time\n",
    "import torch"
   ]
  },
  {
   "cell_type": "code",
   "execution_count": 2,
   "id": "948862eb-a614-4da0-b464-a67a22ac102a",
   "metadata": {},
   "outputs": [
    {
     "name": "stderr",
     "output_type": "stream",
     "text": [
      "A.L.E: Arcade Learning Environment (version 0.8.1+53f58b7)\n",
      "[Powered by Stella]\n",
      "2024-09-23 18:09:40.668 Python[1188:13595] +[IMKClient subclass]: chose IMKClient_Legacy\n",
      "2024-09-23 18:09:40.668 Python[1188:13595] +[IMKInputSession subclass]: chose IMKInputSession_Legacy\n"
     ]
    }
   ],
   "source": [
    "# model = PPO(\"MlpPolicy\", \"CartPole-v1\").learn(10_000)\n",
    "env = gym.make(\"Pong-v4\", render_mode=\"human\")\n",
    "\n",
    "\n",
    "\n",
    "# Test environment reset and step without LLM and rendering\n",
    "obs, info = env.reset()\n",
    "\n",
    "for step in range(100):  # Small loop for testing\n",
    "    # Take a random action just to test environment stability\n",
    "    action = env.action_space.sample()  \n",
    "    obs, reward, done, truncated, info = env.step(action)\n",
    "    \n",
    "    if done or truncated:\n",
    "        obs, info = env.reset()\n",
    "\n",
    "env.close()"
   ]
  },
  {
   "cell_type": "code",
   "execution_count": 3,
   "id": "032a85f3-a5c5-4acf-a16b-b2f12aab4999",
   "metadata": {},
   "outputs": [],
   "source": [
    "\n",
    "# # Create the Pong environment\n",
    "\n",
    "# # Train a PPO model (You can adjust timesteps based on your computational resources)\n",
    "# model = PPO(\"CnnPolicy\", env, verbose=1)\n",
    "# model.learn(total_timesteps=100000)  # Train for 100,000 steps\n",
    "\n",
    "# # Save the model\n",
    "# model.save(\"ppo_pong\")\n"
   ]
  },
  {
   "cell_type": "code",
   "execution_count": 3,
   "id": "0dff3bdf-00eb-48d7-b782-ae9ba3d33ca3",
   "metadata": {},
   "outputs": [],
   "source": [
    "# Load the saved PPO model\n",
    "model = PPO.load(\"ppo_pong\")\n"
   ]
  },
  {
   "cell_type": "code",
   "execution_count": 4,
   "id": "d5aec182-bfd3-4538-8739-865efb15b1ab",
   "metadata": {},
   "outputs": [
    {
     "name": "stderr",
     "output_type": "stream",
     "text": [
      "/Users/kpradjinata/Documents/Research/OpenAIGym/LLM/venv/lib/python3.11/site-packages/tqdm/auto.py:21: TqdmWarning: IProgress not found. Please update jupyter and ipywidgets. See https://ipywidgets.readthedocs.io/en/stable/user_install.html\n",
      "  from .autonotebook import tqdm as notebook_tqdm\n",
      "/Users/kpradjinata/Documents/Research/OpenAIGym/LLM/venv/lib/python3.11/site-packages/transformers/tokenization_utils_base.py:1601: FutureWarning: `clean_up_tokenization_spaces` was not set. It will be set to `True` by default. This behavior will be depracted in transformers v4.45, and will be then set to `False` by default. For more details check this issue: https://github.com/huggingface/transformers/issues/31884\n",
      "  warnings.warn(\n"
     ]
    },
    {
     "name": "stdout",
     "output_type": "stream",
     "text": [
      "LLM Response: the ball is moving towards the net. your paddle is in the middle.\n"
     ]
    }
   ],
   "source": [
    "from transformers import pipeline\n",
    "import torch\n",
    "\n",
    "# Check if GPU is available and set the device accordingly\n",
    "device = 0 if torch.cuda.is_available() else -1\n",
    "\n",
    "# Initialize the non-generative model (distilbert)\n",
    "llm = pipeline(\"fill-mask\", model=\"distilbert-base-uncased\", device=device)\n",
    "\n",
    "# Simple function to describe the game state\n",
    "def describe_game_state(obs):\n",
    "    return \"The ball is moving towards the left. Your paddle is in the middle.\"\n",
    "\n",
    "# Test the LLM alone to check its response (outside the loop)\n",
    "def test_llm():\n",
    "    prompt = describe_game_state(None).replace(\"left\", \"[MASK]\")\n",
    "    try:\n",
    "        response = llm(prompt)[0]['sequence']\n",
    "        print(\"LLM Response:\", response)\n",
    "    except Exception as e:\n",
    "        print(f\"LLM Error: {e}\")\n",
    "\n",
    "# Run a test of the LLM outside the loop to check its behavior\n",
    "test_llm()"
   ]
  },
  {
   "cell_type": "code",
   "execution_count": 5,
   "id": "d985ed51-ace4-4408-b955-dc50d03a120b",
   "metadata": {},
   "outputs": [
    {
     "name": "stderr",
     "output_type": "stream",
     "text": [
      "Hardware accelerator e.g. GPU is available in the environment, but no `device` argument is passed to the `Pipeline` object. Model will be on CPU.\n"
     ]
    }
   ],
   "source": [
    "import time\n",
    "from transformers import pipeline\n",
    "\n",
    "# Initialize the LLM (distilgpt2) and set it to use the CPU\n",
    "llm = pipeline(\"text-generation\", model=\"distilgpt2\")\n",
    "\n",
    "# Simulate the Pong environment (you would replace this with actual environment data)\n",
    "def get_observation():\n",
    "    # Simulated game observation: ball and paddle positions\n",
    "    return {'ball_x': 50, 'ball_y': 30, 'paddle_left_y': 25, 'paddle_right_y': 60}\n",
    "\n",
    "\n",
    "def extract_features_from_obs(obs):\n",
    "    # Convert the observation (which is likely a NumPy array) into an image format\n",
    "    frame = np.array(obs, dtype=np.uint8)\n",
    "\n",
    "    # Use OpenCV to process the image\n",
    "    # Convert the frame to grayscale (if you want to detect based on intensity)\n",
    "    gray_frame = cv2.cvtColor(frame, cv2.COLOR_RGB2GRAY)\n",
    "\n",
    "    # Use image processing techniques to detect the ball and paddle\n",
    "    # For example, use thresholding or edge detection to find objects\n",
    "    # You can modify these thresholds based on your game\n",
    "    _, thresh = cv2.threshold(gray_frame, 127, 255, cv2.THRESH_BINARY)\n",
    "    \n",
    "    # Example: Detect the ball based on its color (e.g., white ball)\n",
    "    # You would adjust the threshold depending on the color/shape of the ball\n",
    "    contours, _ = cv2.findContours(thresh, cv2.RETR_EXTERNAL, cv2.CHAIN_APPROX_SIMPLE)\n",
    "    \n",
    "    # Assume the largest contour is the ball\n",
    "    ball_contour = max(contours, key=cv2.contourArea)\n",
    "    ball_x, ball_y, ball_w, ball_h = cv2.boundingRect(ball_contour)\n",
    "\n",
    "    # Example: Detect the paddle using a similar method\n",
    "    # This is just a placeholder; adjust the logic based on your actual game\n",
    "    paddle_contour = min(contours, key=cv2.contourArea)  # For example, smallest object\n",
    "    paddle_x, paddle_y, paddle_w, paddle_h = cv2.boundingRect(paddle_contour)\n",
    "\n",
    "    # Return the positions of the ball and paddle\n",
    "    return ball_x, ball_y, 1, 1, paddle_y\n",
    "\n",
    "# Function to describe the game state\n",
    "def describe_game_state(obs):\n",
    "    ball_x, ball_y, ball_vel_x, ball_vel_y, paddle_y = extract_features_from_obs(obs)\n",
    "    \n",
    "    if ball_y > paddle_y:\n",
    "        relative_position = \"above\"\n",
    "    elif ball_y < paddle_y:\n",
    "        relative_position = \"below\"\n",
    "    else:\n",
    "        relative_position = \"aligned with\"\n",
    "    \n",
    "    # Log ball and paddle positions and velocities for debugging\n",
    "    print(f\"Ball: (x={ball_x}, y={ball_y}, vel_x={ball_vel_x}, vel_y={ball_vel_y}), Paddle: y={paddle_y}\")\n",
    "    \n",
    "    description = (f\"The ball is at position (x={ball_x}, y={ball_y}) moving at velocity \"\n",
    "                   f\"(vx={ball_vel_x}, vy={ball_vel_y}). Your paddle is at y={paddle_y}. \"\n",
    "                   f\"The ball is {relative_position} the paddle.\")\n",
    "    \n",
    "    return description, ball_vel_y  # Pass ball_vel_y for decision-making\n",
    "\n",
    "def get_llm_advice(game_state_description, ball_vel_y):\n",
    "    # If the ball isn't moving vertically, stay still\n",
    "    if ball_vel_y == 0:\n",
    "        return \"stay still\"\n",
    "    \n",
    "    # Improved heuristic based on the ball's relative position and velocity\n",
    "    if \"above\" in game_state_description and ball_vel_y > 0:\n",
    "        return \"move up\"\n",
    "    elif \"below\" in game_state_description and ball_vel_y < 0:\n",
    "        return \"move down\"\n",
    "    return \"stay still\"\n",
    "\n",
    "    \n",
    "# Function to map the LLM's advice to a game action\n",
    "def llm_to_action(advice, obs):\n",
    "    ball_x, ball_y, ball_vel_x, ball_vel_y, paddle_y = extract_features_from_obs(obs)\n",
    "    \n",
    "    if \"move up\" in advice and ball_y > paddle_y and ball_vel_y > 0:\n",
    "        return 2  # Move paddle up\n",
    "    elif \"move down\" in advice and ball_y < paddle_y and ball_vel_y < 0:\n",
    "        return 0  # Move paddle down\n",
    "    return 1  # Stay still (no action)"
   ]
  },
  {
   "cell_type": "code",
   "execution_count": 6,
   "id": "0d82f860-83d9-4636-ba9d-2173d2d72558",
   "metadata": {
    "scrolled": true
   },
   "outputs": [
    {
     "name": "stderr",
     "output_type": "stream",
     "text": [
      "  0%|                                                           | 0/100 [00:00<?, ?it/s]huggingface/tokenizers: The current process just got forked, after parallelism has already been used. Disabling parallelism to avoid deadlocks...\n",
      "To disable this warning, you can either:\n",
      "\t- Avoid using `tokenizers` before the fork if possible\n",
      "\t- Explicitly set the environment variable TOKENIZERS_PARALLELISM=(true | false)\n",
      "/Users/kpradjinata/Documents/Research/OpenAIGym/LLM/venv/lib/python3.11/site-packages/gymnasium/utils/passive_env_checker.py:364: UserWarning: \u001b[33mWARN: No render fps was declared in the environment (env.metadata['render_fps'] is None or not defined), rendering may occur at inconsistent fps.\u001b[0m\n",
      "  logger.warn(\n",
      "  2%|█                                                  | 2/100 [00:00<00:09,  9.95it/s]"
     ]
    },
    {
     "name": "stdout",
     "output_type": "stream",
     "text": [
      "Ball position was static, simulating movement: new y=6\n",
      "Ball position was static, simulating movement: new y=6\n",
      "Ball position was static, simulating movement: new y=6\n"
     ]
    },
    {
     "name": "stderr",
     "output_type": "stream",
     "text": [
      "  5%|██▌                                                | 5/100 [00:00<00:10,  9.12it/s]"
     ]
    },
    {
     "name": "stdout",
     "output_type": "stream",
     "text": [
      "Ball position was static, simulating movement: new y=6\n",
      "Ball position was static, simulating movement: new y=6\n",
      "Ball position was static, simulating movement: new y=6\n"
     ]
    },
    {
     "name": "stderr",
     "output_type": "stream",
     "text": [
      "  7%|███▌                                               | 7/100 [00:00<00:11,  8.40it/s]"
     ]
    },
    {
     "name": "stdout",
     "output_type": "stream",
     "text": [
      "Ball position was static, simulating movement: new y=6\n",
      "Ball position was static, simulating movement: new y=6\n",
      "Ball position was static, simulating movement: new y=6\n"
     ]
    },
    {
     "name": "stderr",
     "output_type": "stream",
     "text": [
      " 11%|█████▌                                            | 11/100 [00:01<00:10,  8.41it/s]"
     ]
    },
    {
     "name": "stdout",
     "output_type": "stream",
     "text": [
      "Ball position was static, simulating movement: new y=6\n",
      "Ball position was static, simulating movement: new y=6\n",
      "Ball position was static, simulating movement: new y=6\n"
     ]
    },
    {
     "name": "stderr",
     "output_type": "stream",
     "text": [
      " 13%|██████▌                                           | 13/100 [00:01<00:09,  9.13it/s]"
     ]
    },
    {
     "name": "stdout",
     "output_type": "stream",
     "text": [
      "Ball position was static, simulating movement: new y=6\n",
      "Ball position was static, simulating movement: new y=6\n"
     ]
    },
    {
     "name": "stderr",
     "output_type": "stream",
     "text": [
      " 16%|████████                                          | 16/100 [00:01<00:10,  8.35it/s]"
     ]
    },
    {
     "name": "stdout",
     "output_type": "stream",
     "text": [
      "Ball position was static, simulating movement: new y=6\n",
      "Ball position was static, simulating movement: new y=6\n",
      "Ball position was static, simulating movement: new y=6\n"
     ]
    },
    {
     "name": "stderr",
     "output_type": "stream",
     "text": [
      " 18%|█████████                                         | 18/100 [00:02<00:09,  9.06it/s]"
     ]
    },
    {
     "name": "stdout",
     "output_type": "stream",
     "text": [
      "Ball position was static, simulating movement: new y=6\n",
      "Ball position was static, simulating movement: new y=6\n",
      "Ball position was static, simulating movement: new y=6\n"
     ]
    },
    {
     "name": "stderr",
     "output_type": "stream",
     "text": [
      " 21%|██████████▌                                       | 21/100 [00:02<00:09,  8.73it/s]"
     ]
    },
    {
     "name": "stdout",
     "output_type": "stream",
     "text": [
      "Ball position was static, simulating movement: new y=6\n",
      "Ball position was static, simulating movement: new y=6\n"
     ]
    },
    {
     "name": "stderr",
     "output_type": "stream",
     "text": [
      " 24%|████████████                                      | 24/100 [00:02<00:08,  9.29it/s]"
     ]
    },
    {
     "name": "stdout",
     "output_type": "stream",
     "text": [
      "Ball position was static, simulating movement: new y=6\n",
      "Ball position was static, simulating movement: new y=6\n",
      "Ball position was static, simulating movement: new y=6\n"
     ]
    },
    {
     "name": "stderr",
     "output_type": "stream",
     "text": [
      " 26%|█████████████                                     | 26/100 [00:02<00:08,  8.70it/s]"
     ]
    },
    {
     "name": "stdout",
     "output_type": "stream",
     "text": [
      "Ball position was static, simulating movement: new y=6\n",
      "Ball position was static, simulating movement: new y=6\n"
     ]
    },
    {
     "name": "stderr",
     "output_type": "stream",
     "text": [
      " 29%|██████████████▍                                   | 29/100 [00:03<00:07,  9.23it/s]"
     ]
    },
    {
     "name": "stdout",
     "output_type": "stream",
     "text": [
      "Ball position was static, simulating movement: new y=6\n",
      "Ball position was static, simulating movement: new y=6\n",
      "Ball position was static, simulating movement: new y=6\n"
     ]
    },
    {
     "name": "stderr",
     "output_type": "stream",
     "text": [
      " 31%|███████████████▌                                  | 31/100 [00:03<00:07,  9.04it/s]"
     ]
    },
    {
     "name": "stdout",
     "output_type": "stream",
     "text": [
      "Ball position was static, simulating movement: new y=6\n",
      "Ball position was static, simulating movement: new y=6\n",
      "Ball position was static, simulating movement: new y=6\n"
     ]
    },
    {
     "name": "stderr",
     "output_type": "stream",
     "text": [
      " 34%|█████████████████                                 | 34/100 [00:03<00:07,  9.19it/s]"
     ]
    },
    {
     "name": "stdout",
     "output_type": "stream",
     "text": [
      "Ball position was static, simulating movement: new y=6\n",
      "Ball position was static, simulating movement: new y=6\n"
     ]
    },
    {
     "name": "stderr",
     "output_type": "stream",
     "text": [
      " 36%|██████████████████                                | 36/100 [00:04<00:07,  8.71it/s]"
     ]
    },
    {
     "name": "stdout",
     "output_type": "stream",
     "text": [
      "Ball position was static, simulating movement: new y=6\n",
      "Ball position was static, simulating movement: new y=6\n",
      "Ball position was static, simulating movement: new y=6\n"
     ]
    },
    {
     "name": "stderr",
     "output_type": "stream",
     "text": [
      " 40%|████████████████████                              | 40/100 [00:04<00:06,  9.31it/s]"
     ]
    },
    {
     "name": "stdout",
     "output_type": "stream",
     "text": [
      "Ball position was static, simulating movement: new y=178\n",
      "Ball position was static, simulating movement: new y=176\n",
      "Ball position was static, simulating movement: new y=6\n"
     ]
    },
    {
     "name": "stderr",
     "output_type": "stream",
     "text": [
      " 42%|█████████████████████                             | 42/100 [00:04<00:06,  8.89it/s]"
     ]
    },
    {
     "name": "stdout",
     "output_type": "stream",
     "text": [
      "Ball position was static, simulating movement: new y=6\n",
      "Ball position was static, simulating movement: new y=6\n",
      "Ball position was static, simulating movement: new y=6\n"
     ]
    },
    {
     "name": "stderr",
     "output_type": "stream",
     "text": [
      " 44%|██████████████████████                            | 44/100 [00:04<00:06,  9.28it/s]"
     ]
    },
    {
     "name": "stdout",
     "output_type": "stream",
     "text": [
      "Ball position was static, simulating movement: new y=6\n",
      "Ball position was static, simulating movement: new y=6\n"
     ]
    },
    {
     "name": "stderr",
     "output_type": "stream",
     "text": [
      " 48%|████████████████████████                          | 48/100 [00:05<00:05,  9.06it/s]"
     ]
    },
    {
     "name": "stdout",
     "output_type": "stream",
     "text": [
      "Ball position was static, simulating movement: new y=6\n",
      "Ball position was static, simulating movement: new y=6\n"
     ]
    },
    {
     "name": "stderr",
     "output_type": "stream",
     "text": [
      " 49%|████████████████████████▌                         | 49/100 [00:05<00:05,  9.05it/s]"
     ]
    },
    {
     "name": "stdout",
     "output_type": "stream",
     "text": [
      "Ball position was static, simulating movement: new y=6\n",
      "Ball position was static, simulating movement: new y=6\n"
     ]
    },
    {
     "name": "stderr",
     "output_type": "stream",
     "text": [
      " 51%|█████████████████████████▌                        | 51/100 [00:06<00:13,  3.76it/s]"
     ]
    },
    {
     "name": "stdout",
     "output_type": "stream",
     "text": [
      "Ball position was static, simulating movement: new y=6\n",
      "Ball position was static, simulating movement: new y=6\n"
     ]
    },
    {
     "name": "stderr",
     "output_type": "stream",
     "text": [
      " 54%|███████████████████████████                       | 54/100 [00:06<00:08,  5.62it/s]"
     ]
    },
    {
     "name": "stdout",
     "output_type": "stream",
     "text": [
      "Ball position was static, simulating movement: new y=6\n",
      "Ball position was static, simulating movement: new y=6\n",
      "Ball position was static, simulating movement: new y=6\n"
     ]
    },
    {
     "name": "stderr",
     "output_type": "stream",
     "text": [
      " 56%|████████████████████████████                      | 56/100 [00:07<00:06,  6.30it/s]"
     ]
    },
    {
     "name": "stdout",
     "output_type": "stream",
     "text": [
      "Ball position was static, simulating movement: new y=6\n",
      "Ball position was static, simulating movement: new y=6\n"
     ]
    },
    {
     "name": "stderr",
     "output_type": "stream",
     "text": [
      " 59%|█████████████████████████████▌                    | 59/100 [00:07<00:05,  7.91it/s]"
     ]
    },
    {
     "name": "stdout",
     "output_type": "stream",
     "text": [
      "Ball position was static, simulating movement: new y=6\n",
      "Ball position was static, simulating movement: new y=6\n",
      "Ball position was static, simulating movement: new y=6\n"
     ]
    },
    {
     "name": "stderr",
     "output_type": "stream",
     "text": [
      " 62%|███████████████████████████████                   | 62/100 [00:07<00:04,  8.95it/s]"
     ]
    },
    {
     "name": "stdout",
     "output_type": "stream",
     "text": [
      "Ball position was static, simulating movement: new y=6\n",
      "Ball position was static, simulating movement: new y=6\n",
      "Ball position was static, simulating movement: new y=6\n"
     ]
    },
    {
     "name": "stderr",
     "output_type": "stream",
     "text": [
      " 64%|████████████████████████████████                  | 64/100 [00:08<00:04,  8.56it/s]"
     ]
    },
    {
     "name": "stdout",
     "output_type": "stream",
     "text": [
      "Ball position was static, simulating movement: new y=6\n",
      "Ball position was static, simulating movement: new y=6\n"
     ]
    },
    {
     "name": "stderr",
     "output_type": "stream",
     "text": [
      " 67%|█████████████████████████████████▌                | 67/100 [00:08<00:03,  8.39it/s]"
     ]
    },
    {
     "name": "stdout",
     "output_type": "stream",
     "text": [
      "Ball position was static, simulating movement: new y=6\n",
      "Ball position was static, simulating movement: new y=6\n",
      "Ball position was static, simulating movement: new y=6\n"
     ]
    },
    {
     "name": "stderr",
     "output_type": "stream",
     "text": [
      " 69%|██████████████████████████████████▌               | 69/100 [00:08<00:03,  8.73it/s]"
     ]
    },
    {
     "name": "stdout",
     "output_type": "stream",
     "text": [
      "Ball position was static, simulating movement: new y=6\n",
      "Ball position was static, simulating movement: new y=6\n",
      "Ball position was static, simulating movement: new y=6\n"
     ]
    },
    {
     "name": "stderr",
     "output_type": "stream",
     "text": [
      " 72%|████████████████████████████████████              | 72/100 [00:08<00:03,  8.57it/s]"
     ]
    },
    {
     "name": "stdout",
     "output_type": "stream",
     "text": [
      "Ball position was static, simulating movement: new y=6\n",
      "Ball position was static, simulating movement: new y=6\n"
     ]
    },
    {
     "name": "stderr",
     "output_type": "stream",
     "text": [
      " 74%|█████████████████████████████████████             | 74/100 [00:09<00:03,  8.13it/s]"
     ]
    },
    {
     "name": "stdout",
     "output_type": "stream",
     "text": [
      "Ball position was static, simulating movement: new y=6\n",
      "Ball position was static, simulating movement: new y=6\n",
      "Ball position was static, simulating movement: new y=6\n"
     ]
    },
    {
     "name": "stderr",
     "output_type": "stream",
     "text": [
      " 78%|███████████████████████████████████████           | 78/100 [00:09<00:02,  8.66it/s]"
     ]
    },
    {
     "name": "stdout",
     "output_type": "stream",
     "text": [
      "Ball position was static, simulating movement: new y=6\n",
      "Ball position was static, simulating movement: new y=6\n",
      "Ball position was static, simulating movement: new y=6\n"
     ]
    },
    {
     "name": "stderr",
     "output_type": "stream",
     "text": [
      " 81%|████████████████████████████████████████▌         | 81/100 [00:10<00:02,  8.54it/s]"
     ]
    },
    {
     "name": "stdout",
     "output_type": "stream",
     "text": [
      "Ball position was static, simulating movement: new y=6\n",
      "Ball position was static, simulating movement: new y=6\n",
      "Ball position was static, simulating movement: new y=6\n"
     ]
    },
    {
     "name": "stderr",
     "output_type": "stream",
     "text": [
      " 83%|█████████████████████████████████████████▌        | 83/100 [00:10<00:02,  8.38it/s]"
     ]
    },
    {
     "name": "stdout",
     "output_type": "stream",
     "text": [
      "Ball position was static, simulating movement: new y=6\n",
      "Reward: -1.0\n",
      "Ball position was static, simulating movement: new y=6\n"
     ]
    },
    {
     "name": "stderr",
     "output_type": "stream",
     "text": [
      " 85%|██████████████████████████████████████████▌       | 85/100 [00:10<00:01,  8.03it/s]"
     ]
    },
    {
     "name": "stdout",
     "output_type": "stream",
     "text": [
      "Ball position was static, simulating movement: new y=6\n",
      "Ball position was static, simulating movement: new y=6\n",
      "Ball position was static, simulating movement: new y=6\n"
     ]
    },
    {
     "name": "stderr",
     "output_type": "stream",
     "text": [
      " 89%|████████████████████████████████████████████▌     | 89/100 [00:10<00:01,  9.60it/s]"
     ]
    },
    {
     "name": "stdout",
     "output_type": "stream",
     "text": [
      "Ball position was static, simulating movement: new y=6\n",
      "Ball position was static, simulating movement: new y=6\n",
      "Ball position was static, simulating movement: new y=6\n"
     ]
    },
    {
     "name": "stderr",
     "output_type": "stream",
     "text": [
      " 92%|██████████████████████████████████████████████    | 92/100 [00:11<00:00,  9.84it/s]"
     ]
    },
    {
     "name": "stdout",
     "output_type": "stream",
     "text": [
      "Ball position was static, simulating movement: new y=6\n",
      "Ball position was static, simulating movement: new y=6\n",
      "Ball position was static, simulating movement: new y=6\n"
     ]
    },
    {
     "name": "stderr",
     "output_type": "stream",
     "text": [
      " 94%|███████████████████████████████████████████████   | 94/100 [00:11<00:00, 10.29it/s]"
     ]
    },
    {
     "name": "stdout",
     "output_type": "stream",
     "text": [
      "Ball position was static, simulating movement: new y=6\n",
      "Ball position was static, simulating movement: new y=6\n",
      "Ball position was static, simulating movement: new y=6\n"
     ]
    },
    {
     "name": "stderr",
     "output_type": "stream",
     "text": [
      " 97%|████████████████████████████████████████████████▌ | 97/100 [00:11<00:00,  9.36it/s]"
     ]
    },
    {
     "name": "stdout",
     "output_type": "stream",
     "text": [
      "Ball position was static, simulating movement: new y=6\n",
      "Ball position was static, simulating movement: new y=6\n",
      "Ball position was static, simulating movement: new y=6\n"
     ]
    },
    {
     "name": "stderr",
     "output_type": "stream",
     "text": [
      "100%|█████████████████████████████████████████████████| 100/100 [00:12<00:00,  7.73it/s]"
     ]
    },
    {
     "name": "stdout",
     "output_type": "stream",
     "text": [
      "Ball position was static, simulating movement: new y=6\n"
     ]
    },
    {
     "name": "stderr",
     "output_type": "stream",
     "text": [
      "\n"
     ]
    }
   ],
   "source": [
    "import time\n",
    "import tqdm\n",
    "import cv2\n",
    "import numpy as np\n",
    "\n",
    "# Global variables to track ball's position and simulate velocity\n",
    "previous_ball_x = None\n",
    "previous_ball_y = None\n",
    "ball_vel_x = 0\n",
    "ball_vel_y = 0\n",
    "\n",
    "def extract_features_from_obs(obs):\n",
    "    global previous_ball_x, previous_ball_y, ball_vel_x, ball_vel_y\n",
    "    \n",
    "    # Convert the observation (which is likely a NumPy array) into an image format\n",
    "    frame = np.array(obs, dtype=np.uint8)\n",
    "    gray_frame = cv2.cvtColor(frame, cv2.COLOR_RGB2GRAY)\n",
    "\n",
    "    _, thresh = cv2.threshold(gray_frame, 127, 255, cv2.THRESH_BINARY)\n",
    "    contours, _ = cv2.findContours(thresh, cv2.RETR_EXTERNAL, cv2.CHAIN_APPROX_SIMPLE)\n",
    "    \n",
    "    # Log the number of contours detected\n",
    "    # print(f\"Number of contours detected: {len(contours)}\")\n",
    "    \n",
    "    # Check if contours were found\n",
    "    if len(contours) > 0:\n",
    "        # Attempt to find the ball based on contour size (ball should be small)\n",
    "        ball_contour = None\n",
    "        for contour in contours:\n",
    "            area = cv2.contourArea(contour)\n",
    "            # print(f\"Contour Area: {area}\")  # Log the area of each contour\n",
    "\n",
    "            # Define a threshold to determine if it's the ball (adjust as needed)\n",
    "            if 50 < area < 500:  # Adjust these values based on ball size in the game\n",
    "                ball_contour = contour\n",
    "                # print(f\"Ball detected with area {area}.\")  # Log ball detection\n",
    "                break\n",
    "        \n",
    "        if ball_contour is not None:\n",
    "            ball_x, ball_y, ball_w, ball_h = cv2.boundingRect(ball_contour)\n",
    "\n",
    "            # Check if the ball's position is not changing and simulate movement\n",
    "            if ball_y == previous_ball_y:  # If ball position hasn't changed, simulate movement\n",
    "                ball_y += 5  # Simulate movement by incrementing the y-position\n",
    "                print(f\"Ball position was static, simulating movement: new y={ball_y}\")\n",
    "            \n",
    "            # Calculate velocity based on the new or detected ball position\n",
    "            if previous_ball_x is not None and previous_ball_y is not None:\n",
    "                ball_vel_x = ball_x - previous_ball_x\n",
    "                ball_vel_y = ball_y - previous_ball_y\n",
    "            else:\n",
    "                ball_vel_x = 0\n",
    "                ball_vel_y = 0\n",
    "\n",
    "            # Update previous position for future velocity calculation\n",
    "            previous_ball_x, previous_ball_y = ball_x, ball_y\n",
    "\n",
    "            # Predict future ball position\n",
    "            predicted_ball_y = ball_y + ball_vel_y\n",
    "\n",
    "            return ball_x, ball_y, predicted_ball_y, ball_vel_x, ball_vel_y, ball_y\n",
    "        \n",
    "        else:\n",
    "            print(\"Ball not detected. Simulating movement.\")\n",
    "            return simulate_ball_movement()\n",
    "    else:\n",
    "        print(\"No contours detected. Simulating movement.\")\n",
    "        return simulate_ball_movement()\n",
    "\n",
    "def simulate_ball_movement():\n",
    "    \"\"\"Simulate ball movement when it's not detected.\"\"\"\n",
    "    global previous_ball_y, ball_vel_y\n",
    "\n",
    "    if previous_ball_y is None:\n",
    "        previous_ball_y = 100  # Start in the middle of the screen\n",
    "\n",
    "    # Simulate constant upward movement\n",
    "    ball_vel_y = 2\n",
    "    predicted_ball_y = previous_ball_y + ball_vel_y\n",
    "\n",
    "    # Update previous position for next frame\n",
    "    previous_ball_y = predicted_ball_y\n",
    "\n",
    "    return 0, previous_ball_y, predicted_ball_y, 0, ball_vel_y, previous_ball_y\n",
    "\n",
    "def describe_game_state(obs):\n",
    "    # Extract features from the observation\n",
    "    ball_x, ball_y, predicted_ball_y, ball_vel_x, ball_vel_y, paddle_y = extract_features_from_obs(obs)\n",
    "\n",
    "    # Determine the relative position of the ball compared to the paddle\n",
    "    if predicted_ball_y > paddle_y:\n",
    "        relative_position = \"above\"\n",
    "    elif predicted_ball_y < paddle_y:\n",
    "        relative_position = \"below\"\n",
    "    else:\n",
    "        relative_position = \"aligned with\"\n",
    "    \n",
    "    # Log the game state for debugging\n",
    "    # print(f\"Ball: (x={ball_x}, y={ball_y}, predicted_y={predicted_ball_y}, vel_x={ball_vel_x}, vel_y={ball_vel_y}), Paddle: y={paddle_y}\")\n",
    "    \n",
    "    # Generate a description of the game state\n",
    "    description = (f\"The ball is at position (x={ball_x}, y={ball_y}) moving at velocity \"\n",
    "                   f\"(vx={ball_vel_x}, vy={ball_vel_y}). Your paddle is at y={paddle_y}. \"\n",
    "                   f\"The ball is {relative_position} the paddle.\")\n",
    "    \n",
    "    return description, ball_vel_y\n",
    "\n",
    "def llm_to_action(advice, obs):\n",
    "    # Extract features again (can be optimized by reusing previously computed values)\n",
    "    ball_x, ball_y, predicted_ball_y, ball_vel_x, ball_vel_y, paddle_y = extract_features_from_obs(obs)\n",
    "    \n",
    "    # print(f\"LLM Advice: {advice}\")  # Print the LLM advice for debugging\n",
    "    \n",
    "    # Map the advice to actions (2 = move up, 0 = move down, 1 = stay still)\n",
    "    if \"move up\" in advice and predicted_ball_y > paddle_y:\n",
    "        return 2  # Move paddle up\n",
    "    elif \"move down\" in advice and predicted_ball_y < paddle_y:\n",
    "        return 0  # Move paddle down\n",
    "    return 1  # Stay still\n",
    "\n",
    "# Function to provide LLM advice based on ball position and velocity\n",
    "def get_llm_advice(game_state_description, ball_vel_y):\n",
    "    # Heuristic for advice based on the ball's relative position and velocity\n",
    "    if \"above\" in game_state_description:\n",
    "        return \"move up\"\n",
    "    elif \"below\" in game_state_description:\n",
    "        return \"move down\"\n",
    "    return \"stay still\"\n",
    "\n",
    "# Main game loop\n",
    "obs, info = env.reset()\n",
    "\n",
    "for step in tqdm.tqdm(range(100)):\n",
    "    # Describe the game state for the LLM\n",
    "    game_state_description, ball_vel_y = describe_game_state(obs)\n",
    "    \n",
    "    # Get advice from the LLM, passing ball_vel_y for smarter decisions\n",
    "    advice = get_llm_advice(game_state_description, ball_vel_y)\n",
    "    \n",
    "    # Convert the LLM advice into an action the game can use\n",
    "    rl_action = llm_to_action(advice, obs)\n",
    "    \n",
    "    # Step the environment using the chosen action\n",
    "    obs, reward, done, truncated, info = env.step(rl_action)\n",
    "    \n",
    "    if reward != 0:\n",
    "        print(f\"Reward: {reward}\")\n",
    "    \n",
    "    if step % 10 == 0:\n",
    "        env.render()\n",
    "\n",
    "    time.sleep(0.05)\n",
    "\n",
    "    if done or truncated:\n",
    "        obs, info = env.reset()\n",
    "\n",
    "env.close()\n"
   ]
  },
  {
   "cell_type": "code",
   "execution_count": 27,
   "id": "77490e68-38c8-4ae2-a1c0-80105c02ee3c",
   "metadata": {},
   "outputs": [
    {
     "name": "stderr",
     "output_type": "stream",
     "text": [
      "  2%|▉                                                | 2/100 [00:00<00:06, 15.18it/s]"
     ]
    },
    {
     "name": "stdout",
     "output_type": "stream",
     "text": [
      "Step 0: Difference between frames: 9600968\n",
      "Ball position was static, simulating movement: new y=6\n",
      "Step 1: Difference between frames: 16197688\n",
      "Ball position was static, simulating movement: new y=6\n",
      "Step 2: Difference between frames: 0\n",
      "Warning: No difference in frames between steps 1 and 2. Resetting environment.\n",
      "Ball position was static, simulating movement: new y=6\n",
      "Simulating frame change for step 2.\n"
     ]
    },
    {
     "name": "stderr",
     "output_type": "stream",
     "text": [
      "\n"
     ]
    },
    {
     "ename": "UFuncTypeError",
     "evalue": "Cannot cast ufunc 'add' output from dtype('int64') to dtype('uint8') with casting rule 'same_kind'",
     "output_type": "error",
     "traceback": [
      "\u001b[0;31m---------------------------------------------------------------------------\u001b[0m",
      "\u001b[0;31mUFuncTypeError\u001b[0m                            Traceback (most recent call last)",
      "Cell \u001b[0;32mIn[27], line 26\u001b[0m\n\u001b[1;32m     24\u001b[0m \u001b[38;5;28;01mif\u001b[39;00m diff \u001b[38;5;241m==\u001b[39m \u001b[38;5;241m0\u001b[39m:\n\u001b[1;32m     25\u001b[0m     \u001b[38;5;28mprint\u001b[39m(\u001b[38;5;124mf\u001b[39m\u001b[38;5;124m\"\u001b[39m\u001b[38;5;124mSimulating frame change for step \u001b[39m\u001b[38;5;132;01m{\u001b[39;00mstep\u001b[38;5;132;01m}\u001b[39;00m\u001b[38;5;124m.\u001b[39m\u001b[38;5;124m\"\u001b[39m)\n\u001b[0;32m---> 26\u001b[0m     \u001b[43mobs\u001b[49m\u001b[43m \u001b[49m\u001b[38;5;241;43m+\u001b[39;49m\u001b[38;5;241;43m=\u001b[39;49m\u001b[43m \u001b[49m\u001b[43mnp\u001b[49m\u001b[38;5;241;43m.\u001b[39;49m\u001b[43mrandom\u001b[49m\u001b[38;5;241;43m.\u001b[39;49m\u001b[43mrandint\u001b[49m\u001b[43m(\u001b[49m\u001b[38;5;241;43m-\u001b[39;49m\u001b[38;5;241;43m5\u001b[39;49m\u001b[43m,\u001b[49m\u001b[43m \u001b[49m\u001b[38;5;241;43m5\u001b[39;49m\u001b[43m,\u001b[49m\u001b[43m \u001b[49m\u001b[43msize\u001b[49m\u001b[38;5;241;43m=\u001b[39;49m\u001b[43mobs\u001b[49m\u001b[38;5;241;43m.\u001b[39;49m\u001b[43mshape\u001b[49m\u001b[43m)\u001b[49m  \u001b[38;5;66;03m# Simulate changes in obs\u001b[39;00m\n\u001b[1;32m     28\u001b[0m \u001b[38;5;28;01mif\u001b[39;00m reward \u001b[38;5;241m!=\u001b[39m \u001b[38;5;241m0\u001b[39m:\n\u001b[1;32m     29\u001b[0m     \u001b[38;5;28mprint\u001b[39m(\u001b[38;5;124mf\u001b[39m\u001b[38;5;124m\"\u001b[39m\u001b[38;5;124mReward: \u001b[39m\u001b[38;5;132;01m{\u001b[39;00mreward\u001b[38;5;132;01m}\u001b[39;00m\u001b[38;5;124m\"\u001b[39m)\n",
      "\u001b[0;31mUFuncTypeError\u001b[0m: Cannot cast ufunc 'add' output from dtype('int64') to dtype('uint8') with casting rule 'same_kind'"
     ]
    }
   ],
   "source": [
    "obs, info = env.reset()\n",
    "\n",
    "for step in tqdm.tqdm(range(100)):\n",
    "    # print(f\"Step {step}: Raw obs data (portion): {obs[0:5, 0:5]}\")\n",
    "    \n",
    "    if previous_obs is not None:\n",
    "        diff = np.sum(np.abs(obs - previous_obs))\n",
    "        print(f\"Step {step}: Difference between frames: {diff}\")\n",
    "        if diff == 0:\n",
    "            print(f\"Warning: No difference in frames between steps {step-1} and {step}. Resetting environment.\")\n",
    "            # Force a full environment reset to check if it gets unstuck\n",
    "            obs, info = env.reset()  # Full reset of the environment after each step\n",
    "    \n",
    "    previous_obs = np.copy(obs)\n",
    "\n",
    "    # Proceed with the rest of the game logic\n",
    "    game_state_description, ball_vel_y = describe_game_state(obs)\n",
    "    advice = get_llm_advice(game_state_description, ball_vel_y)\n",
    "    rl_action = llm_to_action(advice, obs)\n",
    "    \n",
    "    # Step the environment with the chosen action\n",
    "    obs, reward, done, truncated, info = env.step(rl_action)\n",
    "    \n",
    "    if diff == 0:\n",
    "        print(f\"Simulating frame change for step {step}.\")\n",
    "        obs += np.random.randint(-5, 5, size=obs.shape)  # Simulate changes in obs\n",
    "\n",
    "    if reward != 0:\n",
    "        print(f\"Reward: {reward}\")\n",
    "    \n",
    "    if step % 10 == 0:\n",
    "        env.render()  # Disable this temporarily if needed\n",
    "\n",
    "    time.sleep(0.05)\n",
    "\n",
    "    if done or truncated:\n",
    "        obs, info = env.reset()\n",
    "\n",
    "env.close()\n"
   ]
  },
  {
   "cell_type": "code",
   "execution_count": null,
   "id": "4d067d26-2d95-4048-b69b-530ddf255745",
   "metadata": {},
   "outputs": [],
   "source": []
  }
 ],
 "metadata": {
  "kernelspec": {
   "display_name": "venv2",
   "language": "python",
   "name": "venv2"
  },
  "language_info": {
   "codemirror_mode": {
    "name": "ipython",
    "version": 3
   },
   "file_extension": ".py",
   "mimetype": "text/x-python",
   "name": "python",
   "nbconvert_exporter": "python",
   "pygments_lexer": "ipython3",
   "version": "3.11.9"
  }
 },
 "nbformat": 4,
 "nbformat_minor": 5
}
